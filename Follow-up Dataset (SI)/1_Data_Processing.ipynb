{
 "cells": [
  {
   "cell_type": "code",
   "execution_count": 31,
   "id": "68c40251",
   "metadata": {},
   "outputs": [],
   "source": [
    "import warnings\n",
    "warnings.filterwarnings('ignore')"
   ]
  },
  {
   "cell_type": "code",
   "execution_count": 32,
   "id": "d0f4d682",
   "metadata": {},
   "outputs": [],
   "source": [
    "import numpy as np\n",
    "import pandas as pd\n",
    "import networkx as nx"
   ]
  },
  {
   "cell_type": "markdown",
   "id": "f255b164",
   "metadata": {},
   "source": [
    "# 1. Excel Dataset Processing"
   ]
  },
  {
   "cell_type": "markdown",
   "id": "b2b05773",
   "metadata": {},
   "source": [
    "- Nodes"
   ]
  },
  {
   "cell_type": "code",
   "execution_count": 33,
   "id": "9a33d1c4",
   "metadata": {},
   "outputs": [],
   "source": [
    "# Import Node\n",
    "node_df = pd.read_excel('Data/Nodes.xlsx')"
   ]
  },
  {
   "cell_type": "code",
   "execution_count": 34,
   "id": "30471024",
   "metadata": {},
   "outputs": [
    {
     "data": {
      "text/html": [
       "<div>\n",
       "<style scoped>\n",
       "    .dataframe tbody tr th:only-of-type {\n",
       "        vertical-align: middle;\n",
       "    }\n",
       "\n",
       "    .dataframe tbody tr th {\n",
       "        vertical-align: top;\n",
       "    }\n",
       "\n",
       "    .dataframe thead th {\n",
       "        text-align: right;\n",
       "    }\n",
       "</style>\n",
       "<table border=\"1\" class=\"dataframe\">\n",
       "  <thead>\n",
       "    <tr style=\"text-align: right;\">\n",
       "      <th></th>\n",
       "      <th>id</th>\n",
       "      <th>size</th>\n",
       "      <th>type</th>\n",
       "      <th>subcategory of type 1</th>\n",
       "    </tr>\n",
       "  </thead>\n",
       "  <tbody>\n",
       "    <tr>\n",
       "      <th>0</th>\n",
       "      <td>1</td>\n",
       "      <td>233</td>\n",
       "      <td>1</td>\n",
       "      <td>1.0</td>\n",
       "    </tr>\n",
       "    <tr>\n",
       "      <th>1</th>\n",
       "      <td>2</td>\n",
       "      <td>9714</td>\n",
       "      <td>1</td>\n",
       "      <td>2.0</td>\n",
       "    </tr>\n",
       "    <tr>\n",
       "      <th>2</th>\n",
       "      <td>3</td>\n",
       "      <td>1474</td>\n",
       "      <td>1</td>\n",
       "      <td>3.0</td>\n",
       "    </tr>\n",
       "    <tr>\n",
       "      <th>3</th>\n",
       "      <td>4</td>\n",
       "      <td>92807</td>\n",
       "      <td>1</td>\n",
       "      <td>2.0</td>\n",
       "    </tr>\n",
       "    <tr>\n",
       "      <th>4</th>\n",
       "      <td>5</td>\n",
       "      <td>9618</td>\n",
       "      <td>1</td>\n",
       "      <td>4.0</td>\n",
       "    </tr>\n",
       "    <tr>\n",
       "      <th>...</th>\n",
       "      <td>...</td>\n",
       "      <td>...</td>\n",
       "      <td>...</td>\n",
       "      <td>...</td>\n",
       "    </tr>\n",
       "    <tr>\n",
       "      <th>1351</th>\n",
       "      <td>1336</td>\n",
       "      <td>561</td>\n",
       "      <td>3</td>\n",
       "      <td>NaN</td>\n",
       "    </tr>\n",
       "    <tr>\n",
       "      <th>1352</th>\n",
       "      <td>1338</td>\n",
       "      <td>12896</td>\n",
       "      <td>3</td>\n",
       "      <td>NaN</td>\n",
       "    </tr>\n",
       "    <tr>\n",
       "      <th>1353</th>\n",
       "      <td>1346</td>\n",
       "      <td>1261</td>\n",
       "      <td>3</td>\n",
       "      <td>NaN</td>\n",
       "    </tr>\n",
       "    <tr>\n",
       "      <th>1354</th>\n",
       "      <td>1347</td>\n",
       "      <td>174197</td>\n",
       "      <td>3</td>\n",
       "      <td>NaN</td>\n",
       "    </tr>\n",
       "    <tr>\n",
       "      <th>1355</th>\n",
       "      <td>1355</td>\n",
       "      <td>301</td>\n",
       "      <td>3</td>\n",
       "      <td>NaN</td>\n",
       "    </tr>\n",
       "  </tbody>\n",
       "</table>\n",
       "<p>1356 rows × 4 columns</p>\n",
       "</div>"
      ],
      "text/plain": [
       "        id    size  type  subcategory of type 1\n",
       "0        1     233     1                    1.0\n",
       "1        2    9714     1                    2.0\n",
       "2        3    1474     1                    3.0\n",
       "3        4   92807     1                    2.0\n",
       "4        5    9618     1                    4.0\n",
       "...    ...     ...   ...                    ...\n",
       "1351  1336     561     3                    NaN\n",
       "1352  1338   12896     3                    NaN\n",
       "1353  1346    1261     3                    NaN\n",
       "1354  1347  174197     3                    NaN\n",
       "1355  1355     301     3                    NaN\n",
       "\n",
       "[1356 rows x 4 columns]"
      ]
     },
     "execution_count": 34,
     "metadata": {},
     "output_type": "execute_result"
    }
   ],
   "source": [
    "node_df"
   ]
  },
  {
   "cell_type": "code",
   "execution_count": 35,
   "id": "8e77a12b",
   "metadata": {},
   "outputs": [
    {
     "data": {
      "text/plain": [
       "(644, 501, 211)"
      ]
     },
     "execution_count": 35,
     "metadata": {},
     "output_type": "execute_result"
    }
   ],
   "source": [
    "np.sum(np.array(list(node_df['type'])) == 1), np.sum(np.array(list(node_df['type'])) == 2), np.sum(np.array(list(node_df['type'])) == 3)"
   ]
  },
  {
   "cell_type": "markdown",
   "id": "068b93bf",
   "metadata": {},
   "source": [
    "- Edges"
   ]
  },
  {
   "cell_type": "code",
   "execution_count": 36,
   "id": "8015a93e",
   "metadata": {},
   "outputs": [
    {
     "data": {
      "text/html": [
       "<div>\n",
       "<style scoped>\n",
       "    .dataframe tbody tr th:only-of-type {\n",
       "        vertical-align: middle;\n",
       "    }\n",
       "\n",
       "    .dataframe tbody tr th {\n",
       "        vertical-align: top;\n",
       "    }\n",
       "\n",
       "    .dataframe thead th {\n",
       "        text-align: right;\n",
       "    }\n",
       "</style>\n",
       "<table border=\"1\" class=\"dataframe\">\n",
       "  <thead>\n",
       "    <tr style=\"text-align: right;\">\n",
       "      <th></th>\n",
       "      <th>source</th>\n",
       "      <th>target</th>\n",
       "      <th>Column1</th>\n",
       "    </tr>\n",
       "  </thead>\n",
       "  <tbody>\n",
       "    <tr>\n",
       "      <th>0</th>\n",
       "      <td>997</td>\n",
       "      <td>227</td>\n",
       "      <td>NaN</td>\n",
       "    </tr>\n",
       "    <tr>\n",
       "      <th>1</th>\n",
       "      <td>297</td>\n",
       "      <td>1326</td>\n",
       "      <td>NaN</td>\n",
       "    </tr>\n",
       "    <tr>\n",
       "      <th>2</th>\n",
       "      <td>702</td>\n",
       "      <td>344</td>\n",
       "      <td>NaN</td>\n",
       "    </tr>\n",
       "    <tr>\n",
       "      <th>3</th>\n",
       "      <td>702</td>\n",
       "      <td>334</td>\n",
       "      <td>NaN</td>\n",
       "    </tr>\n",
       "    <tr>\n",
       "      <th>4</th>\n",
       "      <td>702</td>\n",
       "      <td>274</td>\n",
       "      <td>NaN</td>\n",
       "    </tr>\n",
       "    <tr>\n",
       "      <th>...</th>\n",
       "      <td>...</td>\n",
       "      <td>...</td>\n",
       "      <td>...</td>\n",
       "    </tr>\n",
       "    <tr>\n",
       "      <th>7382</th>\n",
       "      <td>1263</td>\n",
       "      <td>1029</td>\n",
       "      <td>NaN</td>\n",
       "    </tr>\n",
       "    <tr>\n",
       "      <th>7383</th>\n",
       "      <td>1263</td>\n",
       "      <td>836</td>\n",
       "      <td>NaN</td>\n",
       "    </tr>\n",
       "    <tr>\n",
       "      <th>7384</th>\n",
       "      <td>1263</td>\n",
       "      <td>802</td>\n",
       "      <td>NaN</td>\n",
       "    </tr>\n",
       "    <tr>\n",
       "      <th>7385</th>\n",
       "      <td>1263</td>\n",
       "      <td>750</td>\n",
       "      <td>NaN</td>\n",
       "    </tr>\n",
       "    <tr>\n",
       "      <th>7386</th>\n",
       "      <td>1263</td>\n",
       "      <td>708</td>\n",
       "      <td>NaN</td>\n",
       "    </tr>\n",
       "  </tbody>\n",
       "</table>\n",
       "<p>7387 rows × 3 columns</p>\n",
       "</div>"
      ],
      "text/plain": [
       "      source  target  Column1\n",
       "0        997     227      NaN\n",
       "1        297    1326      NaN\n",
       "2        702     344      NaN\n",
       "3        702     334      NaN\n",
       "4        702     274      NaN\n",
       "...      ...     ...      ...\n",
       "7382    1263    1029      NaN\n",
       "7383    1263     836      NaN\n",
       "7384    1263     802      NaN\n",
       "7385    1263     750      NaN\n",
       "7386    1263     708      NaN\n",
       "\n",
       "[7387 rows x 3 columns]"
      ]
     },
     "execution_count": 36,
     "metadata": {},
     "output_type": "execute_result"
    }
   ],
   "source": [
    "# Import Edges\n",
    "edge_df1 = pd.read_excel('Data/Edges at Nov 2019 for Fig. 2(c).xlsx'); \n",
    "edge_df1"
   ]
  },
  {
   "cell_type": "code",
   "execution_count": 37,
   "id": "b7c19634",
   "metadata": {},
   "outputs": [
    {
     "data": {
      "text/html": [
       "<div>\n",
       "<style scoped>\n",
       "    .dataframe tbody tr th:only-of-type {\n",
       "        vertical-align: middle;\n",
       "    }\n",
       "\n",
       "    .dataframe tbody tr th {\n",
       "        vertical-align: top;\n",
       "    }\n",
       "\n",
       "    .dataframe thead th {\n",
       "        text-align: right;\n",
       "    }\n",
       "</style>\n",
       "<table border=\"1\" class=\"dataframe\">\n",
       "  <thead>\n",
       "    <tr style=\"text-align: right;\">\n",
       "      <th></th>\n",
       "      <th>source</th>\n",
       "      <th>target</th>\n",
       "    </tr>\n",
       "  </thead>\n",
       "  <tbody>\n",
       "    <tr>\n",
       "      <th>0</th>\n",
       "      <td>1356</td>\n",
       "      <td>1185</td>\n",
       "    </tr>\n",
       "    <tr>\n",
       "      <th>1</th>\n",
       "      <td>1356</td>\n",
       "      <td>839</td>\n",
       "    </tr>\n",
       "    <tr>\n",
       "      <th>2</th>\n",
       "      <td>654</td>\n",
       "      <td>1231</td>\n",
       "    </tr>\n",
       "    <tr>\n",
       "      <th>3</th>\n",
       "      <td>1356</td>\n",
       "      <td>922</td>\n",
       "    </tr>\n",
       "    <tr>\n",
       "      <th>4</th>\n",
       "      <td>1356</td>\n",
       "      <td>1128</td>\n",
       "    </tr>\n",
       "    <tr>\n",
       "      <th>...</th>\n",
       "      <td>...</td>\n",
       "      <td>...</td>\n",
       "    </tr>\n",
       "    <tr>\n",
       "      <th>7149</th>\n",
       "      <td>978</td>\n",
       "      <td>1254</td>\n",
       "    </tr>\n",
       "    <tr>\n",
       "      <th>7150</th>\n",
       "      <td>978</td>\n",
       "      <td>544</td>\n",
       "    </tr>\n",
       "    <tr>\n",
       "      <th>7151</th>\n",
       "      <td>978</td>\n",
       "      <td>405</td>\n",
       "    </tr>\n",
       "    <tr>\n",
       "      <th>7152</th>\n",
       "      <td>978</td>\n",
       "      <td>1300</td>\n",
       "    </tr>\n",
       "    <tr>\n",
       "      <th>7153</th>\n",
       "      <td>978</td>\n",
       "      <td>229</td>\n",
       "    </tr>\n",
       "  </tbody>\n",
       "</table>\n",
       "<p>7154 rows × 2 columns</p>\n",
       "</div>"
      ],
      "text/plain": [
       "      source  target\n",
       "0       1356    1185\n",
       "1       1356     839\n",
       "2        654    1231\n",
       "3       1356     922\n",
       "4       1356    1128\n",
       "...      ...     ...\n",
       "7149     978    1254\n",
       "7150     978     544\n",
       "7151     978     405\n",
       "7152     978    1300\n",
       "7153     978     229\n",
       "\n",
       "[7154 rows x 2 columns]"
      ]
     },
     "execution_count": 37,
     "metadata": {},
     "output_type": "execute_result"
    }
   ],
   "source": [
    "edge_df2 = pd.read_excel('Data/Edges at Dec 2020 for Fig. 2(d).xlsx'); \n",
    "edge_df2"
   ]
  },
  {
   "cell_type": "markdown",
   "id": "c8d453d2",
   "metadata": {},
   "source": [
    "#  2. Create Graphs"
   ]
  },
  {
   "cell_type": "code",
   "execution_count": 77,
   "id": "1291d20f",
   "metadata": {},
   "outputs": [],
   "source": [
    "G1 = nx.DiGraph(); G2 = nx.DiGraph()"
   ]
  },
  {
   "cell_type": "code",
   "execution_count": 78,
   "id": "4d2fa238",
   "metadata": {},
   "outputs": [],
   "source": [
    "node_polarity_num = node_df[[\"type\"]].values.tolist(); node_polarity_num = sum(node_polarity_num, [])"
   ]
  },
  {
   "cell_type": "code",
   "execution_count": 79,
   "id": "66170384",
   "metadata": {},
   "outputs": [],
   "source": [
    "node_polarity = []\n",
    "for num in node_polarity_num:\n",
    "    if num == 1:\n",
    "        node_polarity.append('neutral')\n",
    "    elif num == 2:\n",
    "        node_polarity.append('anti_vaccines')\n",
    "    else:\n",
    "        node_polarity.append('pro_vaccines')"
   ]
  },
  {
   "cell_type": "code",
   "execution_count": 80,
   "id": "1ffe6e9c",
   "metadata": {},
   "outputs": [],
   "source": [
    "# Add nodes\n",
    "node_name = node_df[[\"id\"]].values.tolist(); node_name = sum(node_name, [])\n",
    "fan_size = node_df[[\"size\"]].values.tolist(); fan_size = sum(fan_size, [])\n",
    "\n",
    "for i in range(len(node_name)):\n",
    "    G1.add_node(node_name[i], polarity = node_polarity[i], fan_size = fan_size[i])\n",
    "    G2.add_node(node_name[i], polarity = node_polarity[i], fan_size = fan_size[i])"
   ]
  },
  {
   "cell_type": "code",
   "execution_count": 81,
   "id": "f9d25087",
   "metadata": {},
   "outputs": [],
   "source": [
    "# Add edges\n",
    "edge1 = edge_df1[[\"source\", \"target\"]].values.tolist(); \n",
    "edge2 = edge_df2[[\"source\", \"target\"]].values.tolist();\n",
    "\n",
    "for i in range(len(edge1)):\n",
    "    G1.add_edge(edge1[i][0], edge1[i][1], weight = node_df[node_df[\"id\"] == edge1[i][0]][['id']].values[0][0] * node_df[node_df[\"id\"] == edge1[i][1]][['size']].values[0][0])\n",
    "\n",
    "for i in range(len(edge2)):\n",
    "    G2.add_edge(edge2[i][0], edge2[i][1], weight = node_df[node_df[\"id\"] == edge2[i][0]][['id']].values[0][0] * node_df[node_df[\"id\"] == edge2[i][1]][['size']].values[0][0])"
   ]
  },
  {
   "cell_type": "markdown",
   "id": "7c464023",
   "metadata": {},
   "source": [
    "# 3. Save Graphs"
   ]
  },
  {
   "cell_type": "markdown",
   "id": "6e631c1b",
   "metadata": {},
   "source": [
    "## 3.1. gpickle"
   ]
  },
  {
   "cell_type": "code",
   "execution_count": 83,
   "id": "54c577a3",
   "metadata": {},
   "outputs": [],
   "source": [
    "nx.write_gpickle(G1, \"Data/Graphs/G1.gpickle\")\n",
    "nx.write_gpickle(G2, \"Data/Graphs/G2.gpickle\")"
   ]
  },
  {
   "cell_type": "code",
   "execution_count": 84,
   "id": "2e790ca8",
   "metadata": {},
   "outputs": [
    {
     "data": {
      "text/plain": [
       "('DiGraph with 1356 nodes and 7387 edges',\n",
       " 'DiGraph with 1356 nodes and 7154 edges')"
      ]
     },
     "execution_count": 84,
     "metadata": {},
     "output_type": "execute_result"
    }
   ],
   "source": [
    "nx.info(G1), nx.info(G2)"
   ]
  },
  {
   "cell_type": "code",
   "execution_count": 85,
   "id": "9e24ea99",
   "metadata": {},
   "outputs": [
    {
     "data": {
      "text/plain": [
       "({'polarity': 'neutral', 'fan_size': 233},\n",
       " {'polarity': 'neutral', 'fan_size': 9714})"
      ]
     },
     "execution_count": 85,
     "metadata": {},
     "output_type": "execute_result"
    }
   ],
   "source": [
    "G1.nodes[1], G2.nodes[2]"
   ]
  },
  {
   "cell_type": "code",
   "execution_count": 90,
   "id": "c82eb36a",
   "metadata": {},
   "outputs": [
    {
     "data": {
      "text/plain": [
       "({'weight': 64972}, {'weight': 64972})"
      ]
     },
     "execution_count": 90,
     "metadata": {},
     "output_type": "execute_result"
    }
   ],
   "source": [
    "G1.edges[(2, 650)], G2.edges[(2, 650)]"
   ]
  },
  {
   "cell_type": "markdown",
   "id": "1e32069a",
   "metadata": {},
   "source": [
    "## 3.2. CSV"
   ]
  },
  {
   "cell_type": "code",
   "execution_count": 91,
   "id": "4acdbbdd",
   "metadata": {},
   "outputs": [],
   "source": [
    "import csv"
   ]
  },
  {
   "cell_type": "code",
   "execution_count": 92,
   "id": "61315902",
   "metadata": {},
   "outputs": [],
   "source": [
    "def write_nodes_csv(G, nodes, attributes, address):\n",
    "    \n",
    "    file = open(address, 'w', newline ='')\n",
    "    header = ['node'] + attributes\n",
    "    \n",
    "    with file:\n",
    "        # identifying header \n",
    "        writer = csv.DictWriter(file, fieldnames = header)\n",
    "        \n",
    "        # writing data row-wise into the csv file\n",
    "        writer.writeheader()\n",
    "        \n",
    "        for node in nodes:\n",
    "            node_attributes = G.nodes[node]\n",
    "            node_attributes['node'] = node\n",
    "            writer.writerow(node_attributes)"
   ]
  },
  {
   "cell_type": "code",
   "execution_count": 94,
   "id": "1913a164",
   "metadata": {},
   "outputs": [],
   "source": [
    "write_nodes_csv(G1, list(G1.nodes), ['polarity', 'fan_size'], \"Data/Graphs/G_nodes.csv\")"
   ]
  },
  {
   "cell_type": "code",
   "execution_count": 95,
   "id": "fc1ec0e1",
   "metadata": {},
   "outputs": [],
   "source": [
    "def write_edges_csv(G, edges, attributes, address):\n",
    "    \n",
    "    file = open(address, 'w', newline ='')\n",
    "    header = ['source_node', 'target_node'] + attributes\n",
    "    \n",
    "    with file:\n",
    "        # identifying header \n",
    "        writer = csv.DictWriter(file, fieldnames = header)\n",
    "        \n",
    "        # writing data row-wise into the csv file\n",
    "        writer.writeheader()\n",
    "        \n",
    "        for edge in edges:\n",
    "            edge_attributes = G.edges[edge]\n",
    "            edge_attributes['source_node'] = edge[0]\n",
    "            edge_attributes['target_node'] = edge[1]\n",
    "            writer.writerow(edge_attributes)"
   ]
  },
  {
   "cell_type": "code",
   "execution_count": 96,
   "id": "599f52ed",
   "metadata": {},
   "outputs": [],
   "source": [
    "write_edges_csv(G1, list(G1.edges), ['weight'], \"Data/Graphs/G1_edges.csv\")"
   ]
  },
  {
   "cell_type": "code",
   "execution_count": 97,
   "id": "d96792c9",
   "metadata": {},
   "outputs": [],
   "source": [
    "write_edges_csv(G2, list(G2.edges), ['weight'], \"Data/Graphs/G2_edges.csv\")"
   ]
  }
 ],
 "metadata": {
  "kernelspec": {
   "display_name": "Python 3 (ipykernel)",
   "language": "python",
   "name": "python3"
  },
  "language_info": {
   "codemirror_mode": {
    "name": "ipython",
    "version": 3
   },
   "file_extension": ".py",
   "mimetype": "text/x-python",
   "name": "python",
   "nbconvert_exporter": "python",
   "pygments_lexer": "ipython3",
   "version": "3.8.13"
  }
 },
 "nbformat": 4,
 "nbformat_minor": 5
}
